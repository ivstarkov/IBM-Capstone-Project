{
    "cells": [
        {
            "metadata": {},
            "cell_type": "markdown",
            "source": "<p style=\"text-align:center\">\n    <a href=\"https://skills.network/?utm_medium=Exinfluencer&utm_source=Exinfluencer&utm_content=000026UJ&utm_term=10006555&utm_id=NA-SkillsNetwork-Channel-SkillsNetworkCoursesIBMDeveloperSkillsNetworkML0101ENSkillsNetwork20718538-2022-01-01\" target=\"_blank\">\n    <img src=\"https://cf-courses-data.s3.us.cloud-object-storage.appdomain.cloud/assets/logos/SN_web_lightmode.png\" width=\"200\" alt=\"Skills Network Logo\"  />\n    </a>\n</p>\n\n<h1 align=\"center\"><font size=\"5\">Classification with Python</font></h1>\n"
        },
        {
            "metadata": {},
            "cell_type": "markdown",
            "source": "<h2>Table of Contents</h2>\n<div class=\"alert alert-block alert-info\" style=\"margin-top: 20px\">\n    <ul>\n    <li><a href=\"https://#Section_5\">Instructions</a></li>\n    <li><a href=\"https://#Section_1\">Importing Data </a></li>\n    <li><a href=\"https://#Section_2\">Data Preprocessing</a> </li>\n    <li><a href=\"https://#Section_3\">One Hot Encoding </a></li>\n    <li><a href=\"https://#Section_4\">Train and Test Data Split </a></li>\n    <li><a href=\"https://#Section_6\">Train Logistic Regression, KNN, Decision Tree, SVM, and Linear Regression models and return their appropriate accuracy scores</a></li>\n</a></li>\n</div>\n<p>Estimated Time Needed: <strong>180 min</strong></p>\n</div>\n\n<hr>\n"
        },
        {
            "metadata": {},
            "cell_type": "markdown",
            "source": "In this notebook, try to practice all the classification algorithms that we learned in this course.\n\nLoad a dataset using Pandas library, apply the above mentioned algorithms, and find the best model for this specific dataset based on the accuracy evaluation methods.\n\nLet's first install and load all required libraries.\n"
        },
        {
            "metadata": {},
            "cell_type": "code",
            "source": "#you are running the lab in your  browser, so we will install the libraries using ``piplite``\nimport piplite\nawait piplite.install(['pandas'])\nawait piplite.install(['numpy'])\n",
            "execution_count": 1,
            "outputs": []
        },
        {
            "metadata": {},
            "cell_type": "markdown",
            "source": "# Surpress warnings:\n\ndef warn(\\*args, \\*\\*kwargs):\npass\nimport warnings\nwarnings.warn = warn\n"
        },
        {
            "metadata": {},
            "cell_type": "code",
            "source": "import pandas as pd\nfrom sklearn.linear_model import LogisticRegression\nfrom sklearn.linear_model import LinearRegression\nfrom sklearn import preprocessing\nimport numpy as np\nfrom sklearn.neighbors import KNeighborsClassifier\nfrom sklearn.model_selection import train_test_split\nfrom sklearn.neighbors import KNeighborsClassifier\nfrom sklearn.tree import DecisionTreeClassifier\nfrom sklearn import svm\nfrom sklearn.metrics import jaccard_score\nfrom sklearn.metrics import f1_score\nfrom sklearn.metrics import log_loss\nfrom sklearn.metrics import confusion_matrix, accuracy_score\nimport sklearn.metrics as metrics",
            "execution_count": 2,
            "outputs": []
        },
        {
            "metadata": {},
            "cell_type": "markdown",
            "source": "### Data\n"
        },
        {
            "metadata": {},
            "cell_type": "markdown",
            "source": "#### About the Data\n"
        },
        {
            "metadata": {},
            "cell_type": "markdown",
            "source": "The original source of the data is Australian Government's Bureau of Meteorology and the latest data can be gathered from [http://www.bom.gov.au/climate/dwo/](http://www.bom.gov.au/climate/dwo/?utm_medium=Exinfluencer&utm_source=Exinfluencer&utm_content=000026UJ&utm_term=10006555&utm_id=NA-SkillsNetwork-Channel-SkillsNetworkCoursesIBMDeveloperSkillsNetworkML0101ENSkillsNetwork20718538-2022-01-01).\n\nThe dataset to be used has extra columns like 'RainToday' and our target is 'RainTomorrow', which was gathered from the Rattle at [https://bitbucket.org/kayontoga/rattle/src/master/data/weatherAUS.RData](https://bitbucket.org/kayontoga/rattle/src/master/data/weatherAUS.RData?utm_medium=Exinfluencer&utm_source=Exinfluencer&utm_content=000026UJ&utm_term=10006555&utm_id=NA-SkillsNetwork-Channel-SkillsNetworkCoursesIBMDeveloperSkillsNetworkML0101ENSkillsNetwork20718538-2022-01-01)\n"
        },
        {
            "metadata": {},
            "cell_type": "markdown",
            "source": "This dataset contains observations of weather metrics for each day from 2008 to 2017. The **weatherAUS.csv** dataset includes the following fields:\n\n| Field         | Description                                           | Unit            | Type   |\n| ------------- | ----------------------------------------------------- | --------------- | ------ |\n| Date          | Date of the Observation in YYYY-MM-DD                 | Date            | object |\n| Location      | Location of the Observation                           | Location        | object |\n| MinTemp       | Minimum temperature                                   | Celsius         | float  |\n| MaxTemp       | Maximum temperature                                   | Celsius         | float  |\n| Rainfall      | Amount of rainfall                                    | Millimeters     | float  |\n| Evaporation   | Amount of evaporation                                 | Millimeters     | float  |\n| Sunshine      | Amount of bright sunshine                             | hours           | float  |\n| WindGustDir   | Direction of the strongest gust                       | Compass Points  | object |\n| WindGustSpeed | Speed of the strongest gust                           | Kilometers/Hour | object |\n| WindDir9am    | Wind direction averaged of 10 minutes prior to 9am    | Compass Points  | object |\n| WindDir3pm    | Wind direction averaged of 10 minutes prior to 3pm    | Compass Points  | object |\n| WindSpeed9am  | Wind speed averaged of 10 minutes prior to 9am        | Kilometers/Hour | float  |\n| WindSpeed3pm  | Wind speed averaged of 10 minutes prior to 3pm        | Kilometers/Hour | float  |\n| Humidity9am   | Humidity at 9am                                       | Percent         | float  |\n| Humidity3pm   | Humidity at 3pm                                       | Percent         | float  |\n| Pressure9am   | Atmospheric pressure reduced to mean sea level at 9am | Hectopascal     | float  |\n| Pressure3pm   | Atmospheric pressure reduced to mean sea level at 3pm | Hectopascal     | float  |\n| Cloud9am      | Fraction of the sky obscured by cloud at 9am          | Eights          | float  |\n| Cloud3pm      | Fraction of the sky obscured by cloud at 3pm          | Eights          | float  |\n| Temp9am       | Temperature at 9am                                    | Celsius         | float  |\n| Temp3pm       | Temperature at 3pm                                    | Celsius         | float  |\n| RainToday     | If there was rain today                               | Yes/No          | object |\n| RISK_MM       | Amount of rain tomorrow                               | Millimeters     | float  |\n| RainTomorrow  | If there is rain tomorrow                             | Yes/No          | float  |\n\nColumn definitions were gathered from [http://www.bom.gov.au/climate/dwo/IDCJDW0000.shtml](http://www.bom.gov.au/climate/dwo/IDCJDW0000.shtml?utm_medium=Exinfluencer&utm_source=Exinfluencer&utm_content=000026UJ&utm_term=10006555&utm_id=NA-SkillsNetwork-Channel-SkillsNetworkCoursesIBMDeveloperSkillsNetworkML0101ENSkillsNetwork20718538-2022-01-01)\n"
        },
        {
            "metadata": {},
            "cell_type": "markdown",
            "source": "### Instructions\n"
        },
        {
            "metadata": {},
            "cell_type": "markdown",
            "source": "Below, is where we are going to use the classification algorithms to create a model based on our training data and evaluate our testing data using evaluation metrics learned in the course.\n\nWe will use some of the algorithms taught in the course, specifically:\n\n1.  Logistic Regression\n2.  KNN\n3.  SVM\n4.  Decision Trees\n5.  Linear Regression\n\nWe will evaluate our models using:\n\n1.  Accuracy Score\n2.  Jaccard Index\n3.  F1-Score\n4.  LogLoss\n5.  Mean Absolute Error\n6.  Mean Squared Error\n7.  R2-Score\n\nFinally, you will use your models to generate the report at the end.\n"
        },
        {
            "metadata": {},
            "cell_type": "markdown",
            "source": "### Importing the Dataset\n"
        },
        {
            "metadata": {},
            "cell_type": "code",
            "source": "from pyodide.http import pyfetch\n\nasync def download(url, filename):\n    response = await pyfetch(url)\n    if response.status == 200:\n        with open(filename, \"wb\") as f:\n            f.write(await response.bytes())",
            "execution_count": 3,
            "outputs": []
        },
        {
            "metadata": {},
            "cell_type": "code",
            "source": "path='https://cf-courses-data.s3.us.cloud-object-storage.appdomain.cloud/IBMDeveloperSkillsNetwork-ML0101EN-SkillUp/labs/ML-FinalAssignment/Weather_Data.csv'",
            "execution_count": 4,
            "outputs": []
        },
        {
            "metadata": {},
            "cell_type": "code",
            "source": "await download(path, \"Weather_Data.csv\")\nfilename =\"Weather_Data.csv\"",
            "execution_count": 5,
            "outputs": []
        },
        {
            "metadata": {},
            "cell_type": "code",
            "source": "#df = pd.read_csv(\"Weather_Data.csv\")\ndf.columns",
            "execution_count": 14,
            "outputs": [
                {
                    "execution_count": 14,
                    "output_type": "execute_result",
                    "data": {
                        "text/plain": "Index(['Date', 'MinTemp', 'MaxTemp', 'Rainfall', 'Evaporation', 'Sunshine',\n       'WindGustDir', 'WindGustSpeed', 'WindDir9am', 'WindDir3pm',\n       'WindSpeed9am', 'WindSpeed3pm', 'Humidity9am', 'Humidity3pm',\n       'Pressure9am', 'Pressure3pm', 'Cloud9am', 'Cloud3pm', 'Temp9am',\n       'Temp3pm', 'RainToday', 'RainTomorrow'],\n      dtype='object')"
                    },
                    "metadata": {}
                }
            ]
        },
        {
            "metadata": {},
            "cell_type": "markdown",
            "source": "### Data Preprocessing\n"
        },
        {
            "metadata": {},
            "cell_type": "markdown",
            "source": "#### One Hot Encoding\n"
        },
        {
            "metadata": {},
            "cell_type": "markdown",
            "source": "First, we need to perform one hot encoding to convert categorical variables to binary variables.\n"
        },
        {
            "metadata": {},
            "cell_type": "code",
            "source": "#df_sydney_processed = pd.get_dummies(data=df, columns=['RainToday', 'WindGustDir', 'WindDir9am', 'WindDir3pm'])\ndf_sydney_processed.shape",
            "execution_count": 17,
            "outputs": [
                {
                    "execution_count": 17,
                    "output_type": "execute_result",
                    "data": {
                        "text/plain": "(3271, 68)"
                    },
                    "metadata": {}
                }
            ]
        },
        {
            "metadata": {},
            "cell_type": "markdown",
            "source": "Next, we replace the values of the 'RainTomorrow' column changing them from a categorical column to a binary column. We do not use the `get_dummies` method because we would end up with two columns for 'RainTomorrow' and we do not want, since 'RainTomorrow' is our target.\n"
        },
        {
            "metadata": {},
            "cell_type": "code",
            "source": "df_sydney_processed.replace(['No', 'Yes'], [0,1], inplace=True)\ndf_sydney_processed.shape",
            "execution_count": 16,
            "outputs": [
                {
                    "execution_count": 16,
                    "output_type": "execute_result",
                    "data": {
                        "text/plain": "(3271, 68)"
                    },
                    "metadata": {}
                }
            ]
        },
        {
            "metadata": {},
            "cell_type": "markdown",
            "source": "### Training Data and Test Data\n"
        },
        {
            "metadata": {},
            "cell_type": "markdown",
            "source": "Now, we set our 'features' or x values and our Y or target variable.\n"
        },
        {
            "metadata": {},
            "cell_type": "code",
            "source": "df_sydney_processed.drop('Date',axis=1,inplace=True)\ndf_sydney_processed.shape",
            "execution_count": 18,
            "outputs": [
                {
                    "execution_count": 18,
                    "output_type": "execute_result",
                    "data": {
                        "text/plain": "(3271, 67)"
                    },
                    "metadata": {}
                }
            ]
        },
        {
            "metadata": {},
            "cell_type": "code",
            "source": "df_sydney_processed = df_sydney_processed.astype(float)",
            "execution_count": 19,
            "outputs": []
        },
        {
            "metadata": {},
            "cell_type": "code",
            "source": "features = df_sydney_processed.drop(columns='RainTomorrow', axis=1)\nY = df_sydney_processed['RainTomorrow']",
            "execution_count": 20,
            "outputs": []
        },
        {
            "metadata": {},
            "cell_type": "markdown",
            "source": "#### Q1) Use the `train_test_split` function to split the `features` and `Y` dataframes with a `test_size` of `0.2` and the `random_state` set to `1`.\n"
        },
        {
            "metadata": {},
            "cell_type": "code",
            "source": "x_train, x_test, y_train, y_test = train_test_split(features, Y, test_size=0.2, random_state=42)",
            "execution_count": 21,
            "outputs": []
        },
        {
            "metadata": {},
            "cell_type": "markdown",
            "source": "### Logistic Regression\n"
        },
        {
            "metadata": {},
            "cell_type": "markdown",
            "source": "#### Q2) Create and train a LogisticRegression model called LR using the training data (`x_train`, `y_train`)\n"
        },
        {
            "metadata": {},
            "cell_type": "code",
            "source": "log_reg = LogisticRegression(solver = \"liblinear\")\nlog_reg.fit(x_train, y_train)",
            "execution_count": 23,
            "outputs": [
                {
                    "execution_count": 23,
                    "output_type": "execute_result",
                    "data": {
                        "text/plain": "LogisticRegression(solver='liblinear')"
                    },
                    "metadata": {}
                }
            ]
        },
        {
            "metadata": {},
            "cell_type": "markdown",
            "source": "#### Q3) Now, use the `predict` method on the testing data (`x_test`) and save it to the array `predictions`.\n"
        },
        {
            "metadata": {},
            "cell_type": "code",
            "source": "predictions = log_reg.predict(x_test)",
            "execution_count": 24,
            "outputs": []
        },
        {
            "metadata": {},
            "cell_type": "markdown",
            "source": "#### Q4) Using the `predictions` and the `y_test` dataframe calculate the value for each metric using the appropriate function.\n"
        },
        {
            "metadata": {},
            "cell_type": "code",
            "source": "log_reg_accuracy_score = accuracy_score(y_test, predictions)\nlog_reg_JaccardIndex = jaccard_score(y_test, predictions)\nlog_reg_F1_Score = f1_score(y_test, predictions)\nlog_reg_Log_Loss = log_loss(y_test, predictions)\nprint(\"Accuracy Score:\", log_reg_accuracy_score)\nprint(\"Jaccard Index:\", log_reg_JaccardIndex)\nprint(\"F1 Score:\", log_reg_F1_Score)\nprint(\"Log Loss:\", log_reg_Log_Loss)",
            "execution_count": 28,
            "outputs": [
                {
                    "name": "stdout",
                    "text": "Accuracy Score: 0.8290076335877863\nJaccard Index: 0.4666666666666667\nF1 Score: 0.6363636363636364\nLog Loss: 5.905904952290585\n",
                    "output_type": "stream"
                }
            ]
        },
        {
            "metadata": {},
            "cell_type": "markdown",
            "source": "### KNN\n"
        },
        {
            "metadata": {},
            "cell_type": "markdown",
            "source": "#### Q5) Create and train a KNN model called KNN using the training data (`x_train`, `y_train`) with the `n_neighbors` parameter set to `4`.\n"
        },
        {
            "metadata": {},
            "cell_type": "code",
            "source": "KNN = KNeighborsClassifier(n_neighbors=4)\nKNN.fit(x_train, y_train)",
            "execution_count": 31,
            "outputs": [
                {
                    "execution_count": 31,
                    "output_type": "execute_result",
                    "data": {
                        "text/plain": "KNeighborsClassifier(n_neighbors=4)"
                    },
                    "metadata": {}
                }
            ]
        },
        {
            "metadata": {},
            "cell_type": "markdown",
            "source": "#### Q6) Now use the `predict` method on the testing data (`x_test`) and save it to the array `predictions`.\n"
        },
        {
            "metadata": {},
            "cell_type": "code",
            "source": "predictions = KNN.predict(x_test)",
            "execution_count": 32,
            "outputs": []
        },
        {
            "metadata": {},
            "cell_type": "markdown",
            "source": "#### Q7) Using the `predictions` and the `y_test` dataframe calculate the value for each metric using the appropriate function.\n"
        },
        {
            "metadata": {},
            "cell_type": "code",
            "source": "KNN_Accuracy_Score = accuracy_score(predictions, y_test)\nKNN_JaccardIndex = jaccard_score(y_test, predictions)\nKNN_F1_Score = f1_score(predictions, y_test)\nprint(\"Accuracy Score:\", KNN_Accuracy_Score)\nprint(\"Jaccard Index:\", KNN_JaccardIndex)\nprint(\"F1 Score:\", KNN_F1_Score)",
            "execution_count": 34,
            "outputs": [
                {
                    "name": "stdout",
                    "text": "Accuracy Score: 0.7923664122137405\nJaccard Index: 0.3492822966507177\nF1 Score: 0.5177304964539008\n",
                    "output_type": "stream"
                }
            ]
        },
        {
            "metadata": {},
            "cell_type": "markdown",
            "source": "### SVM\n"
        },
        {
            "metadata": {},
            "cell_type": "markdown",
            "source": "#### Q8) Create and train a SVM model called SVM using the training data (`x_train`, `y_train`).\n"
        },
        {
            "metadata": {},
            "cell_type": "code",
            "source": "SVM = svm.SVC()\nSVM.fit(x_train, y_train)",
            "execution_count": 41,
            "outputs": [
                {
                    "execution_count": 41,
                    "output_type": "execute_result",
                    "data": {
                        "text/plain": "SVC()"
                    },
                    "metadata": {}
                }
            ]
        },
        {
            "metadata": {},
            "cell_type": "markdown",
            "source": "#### Q9) Now use the `predict` method on the testing data (`x_test`) and save it to the array `predictions`.\n"
        },
        {
            "metadata": {},
            "cell_type": "code",
            "source": "predictions = SVM.predict(x_test)",
            "execution_count": 42,
            "outputs": []
        },
        {
            "metadata": {},
            "cell_type": "markdown",
            "source": "#### Q10) Using the `predictions` and the `y_test` dataframe calculate the value for each metric using the appropriate function.\n"
        },
        {
            "metadata": {},
            "cell_type": "code",
            "source": "SVM_Accuracy_Score = accuracy_score(predictions, y_test)\nSVM_JaccardIndex = jaccard_score(y_test, predictions)\nSVM_F1_Score = f1_score(y_test, predictions)\nprint(\"Accuracy Score:\", SVM_Accuracy_Score)\nprint(\"Jaccard Index:\", SVM_JaccardIndex)\nprint(\"F1 Score:\", SVM_F1_Score)",
            "execution_count": 54,
            "outputs": [
                {
                    "name": "stdout",
                    "text": "Accuracy Score: 0.7770992366412214\nJaccard Index: 0.41832669322709165\nF1 Score: 0.5898876404494381\n",
                    "output_type": "stream"
                }
            ]
        },
        {
            "metadata": {},
            "cell_type": "markdown",
            "source": "## Decision Tree\n"
        },
        {
            "metadata": {},
            "cell_type": "markdown",
            "source": "#### Q11) Create and train a Decision Tree model called Tree using the training data (`x_train`, `y_train`).\n"
        },
        {
            "metadata": {},
            "cell_type": "code",
            "source": "D_Tree = DecisionTreeClassifier()\nD_Tree.fit(x_train, y_train)",
            "execution_count": 44,
            "outputs": [
                {
                    "execution_count": 44,
                    "output_type": "execute_result",
                    "data": {
                        "text/plain": "DecisionTreeClassifier()"
                    },
                    "metadata": {}
                }
            ]
        },
        {
            "metadata": {},
            "cell_type": "markdown",
            "source": "#### Q12) Now use the `predict` method on the testing data (`x_test`) and save it to the array `predictions`.\n"
        },
        {
            "metadata": {},
            "cell_type": "code",
            "source": "predictions = D_Tree.predict(x_test)",
            "execution_count": 45,
            "outputs": []
        },
        {
            "metadata": {},
            "cell_type": "markdown",
            "source": "#### Q12) Using the `predictions` and the `y_test` dataframe calculate the value for each metric using the appropriate function.\n"
        },
        {
            "metadata": {},
            "cell_type": "code",
            "source": "D_Tree_Accuracy_Score = accuracy_score(predictions, y_test)\nD_Tree_JaccardIndex = jaccard_score(predictions, y_test)\nD_Tree_F1_Score = f1_score(predictions, y_test)\nprint(\"Accuracy Score:\", D_Tree_Accuracy_Score)\nprint(\"Jaccard Index:\", D_Tree_JaccardIndex)\nprint(\"F1 Score:\", D_Tree_F1_Score)",
            "execution_count": 46,
            "outputs": [
                {
                    "name": "stdout",
                    "text": "Accuracy Score: 0.7770992366412214\nJaccard Index: 0.41832669322709165\nF1 Score: 0.5898876404494381\n",
                    "output_type": "stream"
                }
            ]
        },
        {
            "metadata": {},
            "cell_type": "markdown",
            "source": "### Report\n"
        },
        {
            "metadata": {},
            "cell_type": "markdown",
            "source": "#### Q14) Show the Accuracy,Jaccard Index,F1-Score and LogLoss in a tabular format using data frame for all of the above models.\n\n\\*LogLoss is only for Logistic Regression Model\n"
        },
        {
            "metadata": {},
            "cell_type": "code",
            "source": "Report = pd.DataFrame({'Algorithm' : ['Logistic Regression', 'KNN', 'SVM', 'Decision Tree']})\n\n\nReport['Accuracy'] = [log_reg_accuracy_score, KNN_Accuracy_Score, SVM_Accuracy_Score, D_Tree_Accuracy_Score]\nReport['Jaccard'] = [log_reg_JaccardIndex, KNN_JaccardIndex, SVM_JaccardIndex, D_Tree_JaccardIndex]\nReport['F1-Score'] = [log_reg_F1_Score, KNN_F1_Score, SVM_F1_Score, D_Tree_F1_Score]\nReport['LogLoss'] = [ log_reg_Log_Loss, 'N/A', 'N/A', 'N/A']\nReport",
            "execution_count": 57,
            "outputs": [
                {
                    "execution_count": 57,
                    "output_type": "execute_result",
                    "data": {
                        "text/plain": "             Algorithm  Accuracy   Jaccard  F1-Score   LogLoss\n0  Logistic Regression  0.829008  0.466667  0.636364  5.905905\n1                  KNN  0.792366  0.349282  0.517730       N/A\n2                  SVM  0.777099  0.418327  0.589888       N/A\n3        Decision Tree  0.777099  0.418327  0.589888       N/A",
                        "text/html": "<div>\n<style scoped>\n    .dataframe tbody tr th:only-of-type {\n        vertical-align: middle;\n    }\n\n    .dataframe tbody tr th {\n        vertical-align: top;\n    }\n\n    .dataframe thead th {\n        text-align: right;\n    }\n</style>\n<table border=\"1\" class=\"dataframe\">\n  <thead>\n    <tr style=\"text-align: right;\">\n      <th></th>\n      <th>Algorithm</th>\n      <th>Accuracy</th>\n      <th>Jaccard</th>\n      <th>F1-Score</th>\n      <th>LogLoss</th>\n    </tr>\n  </thead>\n  <tbody>\n    <tr>\n      <th>0</th>\n      <td>Logistic Regression</td>\n      <td>0.829008</td>\n      <td>0.466667</td>\n      <td>0.636364</td>\n      <td>5.905905</td>\n    </tr>\n    <tr>\n      <th>1</th>\n      <td>KNN</td>\n      <td>0.792366</td>\n      <td>0.349282</td>\n      <td>0.517730</td>\n      <td>N/A</td>\n    </tr>\n    <tr>\n      <th>2</th>\n      <td>SVM</td>\n      <td>0.777099</td>\n      <td>0.418327</td>\n      <td>0.589888</td>\n      <td>N/A</td>\n    </tr>\n    <tr>\n      <th>3</th>\n      <td>Decision Tree</td>\n      <td>0.777099</td>\n      <td>0.418327</td>\n      <td>0.589888</td>\n      <td>N/A</td>\n    </tr>\n  </tbody>\n</table>\n</div>"
                    },
                    "metadata": {}
                }
            ]
        },
        {
            "metadata": {},
            "cell_type": "markdown",
            "source": "#### Q15) Use the `train_test_split` function to split the `features` and `Y` dataframes with a `test_size` of `0.2` and the `random_state` set to `10`.\n"
        },
        {
            "metadata": {},
            "cell_type": "code",
            "source": "x_train, x_test, y_train, y_test = train_test_split(features, Y, test_size=0.2, random_state=10)",
            "execution_count": 56,
            "outputs": []
        },
        {
            "metadata": {},
            "cell_type": "markdown",
            "source": "#### Q16) Create and train a Linear Regression model called LinearReg using the training data (`x_train`, `y_train`).\n"
        },
        {
            "metadata": {},
            "cell_type": "code",
            "source": "LinearReg = LinearRegression()\nLinearReg.fit(x_train, y_train)",
            "execution_count": 58,
            "outputs": [
                {
                    "execution_count": 58,
                    "output_type": "execute_result",
                    "data": {
                        "text/plain": "LinearRegression()"
                    },
                    "metadata": {}
                }
            ]
        },
        {
            "metadata": {},
            "cell_type": "markdown",
            "source": "#### Q17) Now use the `predict` method on the testing data (`x_test`) and save it to the array `predictions`.\n"
        },
        {
            "metadata": {},
            "cell_type": "code",
            "source": "predictions = LinearReg.predict(x_test)",
            "execution_count": 59,
            "outputs": []
        },
        {
            "metadata": {},
            "cell_type": "markdown",
            "source": "#### Q18) Using the `predictions` and the `y_test` dataframe calculate the value for each metric using the appropriate function.\n"
        },
        {
            "metadata": {},
            "cell_type": "code",
            "source": "LinearRegression_MAE = metrics.mean_absolute_error(y_test, predictions)\nLinearRegression_MSE = metrics.mean_squared_error(y_test, predictions)\nLinearRegression_R2 = metrics.r2_score(y_test, predictions)\nprint(\"MAE:\", LinearRegression_MAE)\nprint(\"MSE:\", LinearRegression_MSE)\nprint(\"R2:\", LinearRegression_R2)",
            "execution_count": 76,
            "outputs": [
                {
                    "name": "stdout",
                    "text": "MAE: 0.25631863251897213\nMSE: 0.11572042023604767\nR2: 0.4271329122614884\n",
                    "output_type": "stream"
                }
            ]
        },
        {
            "metadata": {},
            "cell_type": "markdown",
            "source": "#### Q19) Show the MAE, MSE, and R2 in a tabular format using data frame for the linear model.\n"
        },
        {
            "metadata": {},
            "cell_type": "code",
            "source": "Report = pd.DataFrame({'Algorithm' : ['LinearRegression']})\n\n\nReport['MAE'] = [LinearRegression_MAE]\nReport['MSE'] = [LinearRegression_MSE]\nReport['R2'] = [LinearRegression_R2]\n\nReport",
            "execution_count": 77,
            "outputs": [
                {
                    "execution_count": 77,
                    "output_type": "execute_result",
                    "data": {
                        "text/plain": "          Algorithm       MAE      MSE        R2\n0  LinearRegression  0.256319  0.11572  0.427133",
                        "text/html": "<div>\n<style scoped>\n    .dataframe tbody tr th:only-of-type {\n        vertical-align: middle;\n    }\n\n    .dataframe tbody tr th {\n        vertical-align: top;\n    }\n\n    .dataframe thead th {\n        text-align: right;\n    }\n</style>\n<table border=\"1\" class=\"dataframe\">\n  <thead>\n    <tr style=\"text-align: right;\">\n      <th></th>\n      <th>Algorithm</th>\n      <th>MAE</th>\n      <th>MSE</th>\n      <th>R2</th>\n    </tr>\n  </thead>\n  <tbody>\n    <tr>\n      <th>0</th>\n      <td>LinearRegression</td>\n      <td>0.256319</td>\n      <td>0.11572</td>\n      <td>0.427133</td>\n    </tr>\n  </tbody>\n</table>\n</div>"
                    },
                    "metadata": {}
                }
            ]
        },
        {
            "metadata": {},
            "cell_type": "markdown",
            "source": "<h2 id=\"Section_5\">  How to submit </h2>\n\n<p>Once you complete your notebook you will have to share it. You can download the notebook by navigating to \"File\" and clicking on \"Download\" button.\n\n<p>This will save the (.ipynb) file on your computer. Once saved, you can upload this file in the \"My Submission\" tab, of the \"Peer-graded Assignment\" section.  \n"
        },
        {
            "metadata": {},
            "cell_type": "markdown",
            "source": "<h2>About the Authors:</h2> \n\n<a href=\"https://www.linkedin.com/in/joseph-s-50398b136/?utm_medium=Exinfluencer&utm_source=Exinfluencer&utm_content=000026UJ&utm_term=10006555&utm_id=NA-SkillsNetwork-Channel-SkillsNetworkCoursesIBMDeveloperSkillsNetworkML0101ENSkillsNetwork20718538-2022-01-01\">Joseph Santarcangelo</a> has a PhD in Electrical Engineering, his research focused on using machine learning, signal processing, and computer vision to determine how videos impact human cognition. Joseph has been working for IBM since he completed his PhD.\n\n### Other Contributors\n\n<a href=\"https://www.linkedin.com/in/birlahimanshu/?utm_medium=Exinfluencer&utm_source=Exinfluencer&utm_content=000026UJ&utm_term=10006555&utm_id=NA-SkillsNetwork-Channel-SkillsNetworkCoursesIBMDeveloperSkillsNetworkML0101ENSkillsNetwork20718538-2022-01-01\" target=\"_blank\">Himanshu Birla</a>\n"
        },
        {
            "metadata": {},
            "cell_type": "markdown",
            "source": "## Change Log\n\n| Date (YYYY-MM-DD) | Version | Changed By    | Change Description          |\n| ----------------- | ------- | ------------- | --------------------------- |\n| 2020-08-27        | 1.0     | Malika Singla | Added lab to GitLab         |\n| 2022-06-22        | 2.0     | Lana K.       | Deleted GridSearch and Mock |\n| <hr>              |         |               |                             |\n\n## <h3 align=\"center\"> \u00a9 IBM Corporation 2020. All rights reserved. <h3/>\n"
        }
    ],
    "metadata": {
        "kernelspec": {
            "name": "python3",
            "display_name": "Python 3.10",
            "language": "python"
        },
        "language_info": {
            "name": "python",
            "version": "3.10.6",
            "mimetype": "text/x-python",
            "codemirror_mode": {
                "name": "ipython",
                "version": 3
            },
            "pygments_lexer": "ipython3",
            "nbconvert_exporter": "python",
            "file_extension": ".py"
        }
    },
    "nbformat": 4,
    "nbformat_minor": 4
}